!pip install yfinance
!pip install pandas
!mamba install bs4
!mamba install html5lib
!pip install lxml

import yfinance as yf
import pandas as pd
import requests
from bs4 import BeautifulSoup
import matplotlib.pyplot as plt
from plotly.subplots import make_subplots
import plotly.graph_objects as go

tesla = yf.Ticker('TSLA')
tesla_data = tesla.history(period='max')
tesla_data.reset_index(inplace = True)
tesla_data.head()

url = "https://cf-courses-data.s3.us.cloud-object-storage.appdomain.cloud/IBMDeveloperSkillsNetwork-PY0220EN-SkillsNetwork/labs/project/revenue.htm"
# Send a GET request to the URL
response = requests.get(url)
# Get the text content of the response
html_data = response.text
# Print the content of html_data
print(html_data)

# Parse the html data
soup = BeautifulSoup(html_data, 'html.parser')
# Extract tables from the HTML data using the read_html function
tables = pd.read_html(html_data)
# Find the table with "Tesla Quarterly Revenue"
tesla_revenue = tables[0]
# Rename the columns
tesla_revenue.columns = ['Date', 'Revenue']
# Display the DataFrame
print(tesla_revenue.tail(5))

# Create the stock dashboard
stock_fig = go.Figure()
stock_fig.add_trace(go.Scatter(x=tesla_data.index, y=tesla_data['Close'], name='Stock Price'))

# Create the revenue dashboard
revenue_fig = go.Figure()
revenue_fig.add_trace(go.Scatter(x=tesla_revenue['Date'], y=tesla_revenue['Revenue'], name='Revenue'))

# Set layout for stock dashboard
stock_fig.update_layout(
    title='Tesla Stock Price Dashboard',
    xaxis_title='Date',
    yaxis_title='Stock Price ($)',
    showlegend=True
)

# Set layout for revenue dashboard
revenue_fig.update_layout(
    title='Tesla Revenue Dashboard',
    xaxis_title='Date',
    yaxis_title='Revenue ($US Millions)',
    showlegend=True
)

revenue_fig.update_yaxes(autorange="reversed")
# Display both dashboards
stock_fig.show()
revenue_fig.show()


gme_stock = yf.Ticker('GME')
gme_data = gme_stock.history(period='max')
gme_data.reset_index(inplace = True)
gme_data.head()


# URL of the webpage to download
url = "https://cf-courses-data.s3.us.cloud-object-storage.appdomain.cloud/IBMDeveloperSkillsNetwork-PY0220EN-SkillsNetwork/labs/project/stock.html"

# Send a GET request to the URL
response = requests.get(url)

# Get the text content of the response
html_data = response.text

# Print the content of html_data
print(html_data)



# Parse the html data
soup = BeautifulSoup(html_data, 'html.parser')


# Extract tables from the HTML data using the read_html function
tables = pd.read_html(html_data)

# Find the table with "Tesla Quarterly Revenue"
gme_revenue = tables[0]

# Rename the columns
gme_revenue.columns = ['Date', 'Revenue']

# Display the DataFrame
print(gme_revenue.tail(5))


# Create the stock dashboard
stock_fig = go.Figure()
stock_fig.add_trace(go.Scatter(x=gme_data.index, y=gme_data['Close'], name='Stock Price'))

# Create the revenue dashboard
revenue_fig = go.Figure()
revenue_fig.add_trace(go.Scatter(x=gme_revenue['Date'], y=gme_revenue['Revenue'], name='Revenue'))

# Set layout for stock dashboard
stock_fig.update_layout(
    title='GameStop Stock Price Dashboard',
    xaxis_title='Date',
    yaxis_title='Stock Price ($)',
    showlegend=True
)

# Set layout for revenue dashboard
revenue_fig.update_layout(
    title='GameStop Revenue Dashboard',
    xaxis_title='Date',
    yaxis_title='Revenue ($US Millions)',
    showlegend=True
)

revenue_fig.update_yaxes(autorange="reversed")
# Display both dashboards
stock_fig.show()
revenue_fig.show()
